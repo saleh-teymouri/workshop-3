{
 "cells": [
  {
   "cell_type": "code",
   "execution_count": 2,
   "metadata": {},
   "outputs": [
    {
     "name": "stdout",
     "output_type": "stream",
     "text": [
      "Populating the interactive namespace from numpy and matplotlib\n"
     ]
    },
    {
     "data": {
      "image/png": "[encoded data removed]",
      "text/plain": [
       "<Figure size 432x288 with 1 Axes>"
      ]
     },
     "metadata": {
      "needs_background": "light"
     },
     "output_type": "display_data"
    }
   ],
   "source": [
    "%pylab inline\n",
    "import matplotlib.pyplot as plt\n",
    "from matplotlib.patches import Rectangle\n",
    "\n",
    "def draw_environment():\n",
    "    \n",
    "    fig, ax = plt.subplots()\n",
    "    \n",
    "    rectangle1 = plt.Rectangle((-8.7,5.9), 4, 1, fc='black')\n",
    "    rectangle2 = plt.Rectangle((5.425,4.225), 4, 1, fc='black')\n",
    "    rectangle3 = plt.Rectangle((-3.025,-2), 4, 1, fc='black')\n",
    "    rectangle4 = plt.Rectangle((-3.41794919,-5.7669873), 4, 1, 150, fc='black')\n",
    "    rectangle5 = plt.Rectangle((1.19291111,0.383021952), 4, 1, -40, fc='black')\n",
    "    \n",
    "    circle1= plt.Circle((-0.525,6.3), radius= 0.5, fc='black')\n",
    "    circle2= plt.Circle((2.425,4.075), radius= 0.5, fc='black')\n",
    "    circle3= plt.Circle((-5.125,3.425), radius= 0.5, fc='black')\n",
    "    circle4= plt.Circle((-1.775,2.1), radius= 0.5, fc='black')\n",
    "    circle5= plt.Circle((4.4,0.875), radius= 0.5, fc='black')\n",
    "    circle6= plt.Circle((-5.8,-0.975), radius= 0.5, fc='black')\n",
    "    circle7= plt.Circle((2.825,-4.85), radius= 0.5, fc='black')\n",
    "    circle8= plt.Circle((7.275,-7.75), radius= 0.5, fc='black')\n",
    "\n",
    "    plt.text(7.625, 8.55,'Start', color='red')\n",
    "    plt.text(-7.425, -7.925,'Goal', color='red')\n",
    "    \n",
    "    plt.gca().add_patch(rectangle1)\n",
    "    plt.gca().add_patch(rectangle2)\n",
    "    plt.gca().add_patch(rectangle3)\n",
    "    plt.gca().add_patch(rectangle4)\n",
    "    plt.gca().add_patch(rectangle5)\n",
    "    \n",
    "    plt.gca().add_patch(circle1)\n",
    "    plt.gca().add_patch(circle2)\n",
    "    plt.gca().add_patch(circle3)\n",
    "    plt.gca().add_patch(circle4)\n",
    "    plt.gca().add_patch(circle5)\n",
    "    plt.gca().add_patch(circle6)\n",
    "    plt.gca().add_patch(circle7)\n",
    "    plt.gca().add_patch(circle8)\n",
    "    \n",
    "    plt.xlim([-10,10])\n",
    "    plt.ylim([-10,10])\n",
    "    \n",
    "    ax.set_xticks(np.arange(-10, 11, 1));\n",
    "    ax.set_yticks(np.arange(-10, 11, 1));\n",
    "\n",
    "    \n",
    "draw_environment()\n",
    "grid()"
   ]
  }
 ],
 "metadata": {
  "kernelspec": {
   "display_name": "Python 3",
   "language": "python",
   "name": "python3"
  },
  "language_info": {
   "codemirror_mode": {
    "name": "ipython",
    "version": 3
   },
   "file_extension": ".py",
   "mimetype": "text/x-python",
   "name": "python",
   "nbconvert_exporter": "python",
   "pygments_lexer": "ipython3",
   "version": "3.8.5"
  }
 },
 "nbformat": 4,
 "nbformat_minor": 4
}
